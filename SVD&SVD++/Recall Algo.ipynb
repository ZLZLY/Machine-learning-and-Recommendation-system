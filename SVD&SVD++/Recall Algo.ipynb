{
 "cells": [
  {
   "cell_type": "markdown",
   "metadata": {},
   "source": [
    "Let's go through SVD first.\n",
    "\n",
    "The equation is:\n",
    "\n",
    "$\\hat{r}_{ui} = \\mu + b_u + b_i + q_i^Tp_u$\n",
    "\n",
    "\n",
    "The loss function is\n",
    "\n",
    "$\\sum_{r_{ui} \\in R_{train}} \\left(r_{ui} - \\hat{r}_{ui} \\right)^2 + \\lambda\\left(b_i^2 + b_u^2 + ||q_i||^2 + ||p_u||^2\\right)$\n",
    "\n",
    "\n",
    "\n",
    "The update rule\n",
    "\n",
    "$b_u \\leftarrow b_u + \\gamma (e_{ui} - \\lambda b_u)$\n",
    "\n",
    "$b_i \\leftarrow b_i + \\gamma (e_{ui} - \\lambda b_i)$\n",
    "\n",
    "$p_u \\leftarrow p_u + \\gamma (e_{ui} \\cdot q_i - \\lambda p_u)$\n",
    "\n",
    "$q_i \\leftarrow q_i + \\gamma (e_{ui} \\cdot p_u - \\lambda q_i)$"
   ]
  },
  {
   "cell_type": "markdown",
   "metadata": {},
   "source": [
    "We assume the input X, consists of three columns: the user_id, the item_id, and the rating."
   ]
  },
  {
   "cell_type": "code",
   "execution_count": 1,
   "metadata": {
    "collapsed": true
   },
   "outputs": [],
   "source": [
    "import numpy as np\n",
    "\n",
    "\n",
    "class SVD:\n",
    "    def __init__(self, learning_rate, regularized_rate, max_step, n_users, n_items, n_factors):\n",
    "        self.learning_rate = learning_rate\n",
    "        self.regularized_rate = regularized_rate\n",
    "        self.max_step = max_step\n",
    "        self.bu = np.zeros(n_users, np.double)\n",
    "        self.bi = np.zeros(n_items, np.double)\n",
    "        self.pu = np.zeros((n_users, n_factors), np.double)\n",
    "        self.qi = np.zeros((n_items, n_factors), np.double)\n",
    "        self.mean = 0\n",
    "        \n",
    "    def get_pred_value(u, i):\n",
    "        return self.mean + self.bu[u] + self.bi[i] + np.dot(self.pu[u], self.qi[i])\n",
    "        \n",
    "    def fit(self, X, y):\n",
    "        for index, row in X.iterrows():\n",
    "            u, i, r = row['user_id'], row['item_id'], row['rating']\n",
    "            err = r - self.get_pred_value(u, i)\n",
    "            self.bu[u] += self.learning_rate * (err - self.regularized_rate * self.bu[u])\n",
    "            self.bi[i] += self.learning_rate * (err - self.regularized_rate * self.bi[i])\n",
    "            tmp = self.pu[u]\n",
    "            self.pu[u] += self.learning_rate * (err * self.qi[i] - self.regularized_rate * self.pu[u])\n",
    "            self.qi[i] += self.learning_rate * (err * tmp - self.regularized_rate * self.qi[i])\n",
    "            if index == self.max_step:\n",
    "                break\n",
    "        return self\n",
    "            \n",
    "    def transform(self, X):\n",
    "        result = [0] * len(X)\n",
    "        for index, row in X.iterrows():\n",
    "            u, i, r = row['user_id'], row['item_id'], row['rating']\n",
    "            result[index] = self.get_pred_value(u, i)\n",
    "        return result"
   ]
  },
  {
   "cell_type": "markdown",
   "metadata": {},
   "source": [
    "Here comes SVD++.\n",
    "\n",
    "$\\hat{r}_{ui} = \\mu + b_u + b_i + q_i^T\\left(p_u + |I_u|^{-\\frac{1}{2}} \\sum_{j \\in I_u}y_j\\right)$\n",
    "\n",
    "Remember we also modified the loss function:\n",
    "\n",
    "$\\sum_{r_{ui} \\in R_{train}} \\left(r_{ui} - \\hat{r}_{ui} \\right)^2 + \\lambda\\left(b_i^2 + b_u^2 + ||q_i||^2 + ||p_u||^2 + ||y_j||^2 \\right)$\n",
    "\n",
    "And the update rule:\n",
    "\n",
    "$q_i \\leftarrow q_i + \\gamma (e_{ui} \\cdot (p_u + |I_u|^{-\\frac{1}{2}} \\sum_{j \\in I_u}y_j) - \\lambda q_i)$"
   ]
  },
  {
   "cell_type": "code",
   "execution_count": 2,
   "metadata": {
    "collapsed": true
   },
   "outputs": [],
   "source": [
    "class SVDPP:\n",
    "    def __init__(self, learning_rate, regularized_rate, max_step, n_users, n_items, n_factors, ur_dict):\n",
    "        self.learning_rate = learning_rate\n",
    "        self.regularized_rate = regularized_rate\n",
    "        self.max_step = max_step\n",
    "        self.bu = np.zeros(n_users, np.double)\n",
    "        self.bi = np.zeros(n_items, np.double)\n",
    "        self.pu = np.zeros((n_users, n_factors), np.double)\n",
    "        self.qi = np.zeros((n_items, n_factors), np.double)\n",
    "        self.yj = np.zeros((n_items, n_factors), np.double)\n",
    "        self.ur_dict = ur_dict\n",
    "        self.mean = 0\n",
    "        \n",
    "    def get_pred_value(u, i, u_impl_fdb):\n",
    "        return self.mean + self.bu[u] + self.bi[i] + np.dot(self.pu[u] + u_impl_fdb, self.qi[i])\n",
    "        \n",
    "    def fit(self, X, y):\n",
    "        for index, row in X.iterrows():\n",
    "            u, i, r = row['user_id'], row['item_id'], row['rating']\n",
    "            \n",
    "            # suppose we can get a user's rating related to all items he rated\n",
    "            Iu = [j for (j, _) in self.ur_dict[u].items( )]\n",
    "            sqrt_Iu = np.sqrt(len(Iu))\n",
    "            u_impl_fdb = np.zeros(self.n_factors, np.double)\n",
    "            for j in Iu:\n",
    "                u_impl_fdb += self.yj[j] / sqrt_Iu\n",
    "            \n",
    "            err = r - self.get_pred_value(u, i, u_impl_fdb)\n",
    "            self.bu[u] += self.learning_rate * (err - self.regularized_rate * self.bu[u])\n",
    "            self.bi[i] += self.learning_rate * (err - self.regularized_rate * self.bi[i])\n",
    "            self.pu[u] += self.learning_rate * (err * self.qi[i] - self.regularized_rate * self.pu[u])\n",
    "            self.qi[i] += self.learning_rate * (err * (self.pu[u] + u_impl_fdb) - self.regularized_rate * self.qi[i])\n",
    "            \n",
    "            for j in Iu:\n",
    "                self.yj[j] += self.learning_rate * (err * self.qi[i] / sqrt_Iu - self.regularized_rate * self.yj[j])\n",
    "                \n",
    "            if index == self.max_step:\n",
    "                break\n",
    "        return self\n",
    "            \n",
    "    def transform(self, X):\n",
    "        result = [0] * len(X)\n",
    "        for index, row in X.iterrows():\n",
    "            u, i, r = row['user_id'], row['item_id'], row['rating']\n",
    "            result[index] = self.get_pred_value(u, i)\n",
    "        return result"
   ]
  },
  {
   "cell_type": "markdown",
   "metadata": {},
   "source": []
  },
  {
   "cell_type": "code",
   "execution_count": null,
   "metadata": {
    "collapsed": true
   },
   "outputs": [],
   "source": []
  },
  {
   "cell_type": "markdown",
   "metadata": {},
   "source": []
  },
  {
   "cell_type": "code",
   "execution_count": null,
   "metadata": {
    "collapsed": true
   },
   "outputs": [],
   "source": []
  }
 ],
 "metadata": {
  "kernelspec": {
   "display_name": "Python 3",
   "language": "python",
   "name": "python3"
  },
  "language_info": {
   "codemirror_mode": {
    "name": "ipython",
    "version": 3
   },
   "file_extension": ".py",
   "mimetype": "text/x-python",
   "name": "python",
   "nbconvert_exporter": "python",
   "pygments_lexer": "ipython3",
   "version": "3.6.1"
  }
 },
 "nbformat": 4,
 "nbformat_minor": 2
}
