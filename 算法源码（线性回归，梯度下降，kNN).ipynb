{
 "cells": [
  {
   "cell_type": "markdown",
   "metadata": {},
   "source": [
    "# 最小二乘线性回归"
   ]
  },
  {
   "cell_type": "code",
   "execution_count": 61,
   "metadata": {
    "collapsed": true
   },
   "outputs": [],
   "source": [
    "import numpy as np\n",
    "import matplotlib.pyplot as plt"
   ]
  },
  {
   "cell_type": "code",
   "execution_count": 62,
   "metadata": {},
   "outputs": [],
   "source": [
    "points = np.genfromtxt('data.csv',delimiter=',')\n",
    "#points\n",
    "#提取数据\n",
    "x = points[:,0]\n",
    "y = points[:,1]"
   ]
  },
  {
   "cell_type": "code",
   "execution_count": 63,
   "metadata": {},
   "outputs": [
    {
     "data": {
      "image/png": "[encoded data removed]",
      "text/plain": [
       "<matplotlib.figure.Figure at 0x178ace9c4e0>"
      ]
     },
     "metadata": {},
     "output_type": "display_data"
    }
   ],
   "source": [
    "#散点图\n",
    "plt.scatter(x,y)\n",
    "plt.show()"
   ]
  },
  {
   "cell_type": "code",
   "execution_count": 64,
   "metadata": {},
   "outputs": [],
   "source": [
    "#损失\n",
    "def cost1(w,b,points):\n",
    "    total_cost = 0\n",
    "    M = len(points)\n",
    "    \n",
    "    #计算法平方误差\n",
    "    for i in range(M):\n",
    "        x = points[i,0]\n",
    "        y = points[i,1]\n",
    "        total_cost +=(y - x*w -b)**2\n",
    "        \n",
    "    return total_cost/M"
   ]
  },
  {
   "cell_type": "code",
   "execution_count": 65,
   "metadata": {},
   "outputs": [],
   "source": [
    "#拟合函数\n",
    "#样本均值\n",
    "def average(data):\n",
    "    sum=0\n",
    "    for i in range(len(data)):\n",
    "        sum += data[i]\n",
    "    return sum/len(data)\n",
    "#拟合\n",
    "def fit(points):\n",
    "    M = len(points)\n",
    "    x_bar = average(points[:,0])\n",
    "    \n",
    "    sum_yx = 0\n",
    "    sum_xx = 0\n",
    "    sum_de = 0\n",
    "    for i in range(M):\n",
    "        x = points[i,0]\n",
    "        y = points[i,1]\n",
    "        sum_yx += y*(x-x_bar)\n",
    "        sum_xx += x**2\n",
    "    #计算w\n",
    "    w = sum_yx/(sum_xx - M*(x_bar)**2)\n",
    "    #print(w)\n",
    "    for i in range(M):\n",
    "        x = points[i,0]\n",
    "        y = points[i,1]\n",
    "        sum_de += (y-w*x)\n",
    "    b = sum_de / M\n",
    "    return w,b"
   ]
  },
  {
   "cell_type": "code",
   "execution_count": 66,
   "metadata": {},
   "outputs": [
    {
     "name": "stdout",
     "output_type": "stream",
     "text": [
      "w is : 1.3224310227553846\n",
      "b is : 7.991020982269173\n",
      "cost is: 110.25738346621313\n"
     ]
    }
   ],
   "source": [
    "#输出结果\n",
    "w,b = fit(points)\n",
    "print(\"w is :\",w)\n",
    "print(\"b is :\",b)\n",
    "\n",
    "cost = cost1(w,b,points)\n",
    "print(\"cost is:\",cost)"
   ]
  },
  {
   "cell_type": "code",
   "execution_count": 67,
   "metadata": {},
   "outputs": [
    {
     "data": {
      "image/png": "[encoded data removed]",
      "text/plain": [
       "<matplotlib.figure.Figure at 0x178ad0ab390>"
      ]
     },
     "metadata": {},
     "output_type": "display_data"
    }
   ],
   "source": [
    "#拟合曲线\n",
    "plt.scatter(x,y)\n",
    "pred_y = w*x + b\n",
    "\n",
    "plt.plot(x,pred_y,c='red')\n",
    "plt.show()"
   ]
  },
  {
   "cell_type": "markdown",
   "metadata": {},
   "source": [
    "# 梯度下降线性回归"
   ]
  },
  {
   "cell_type": "code",
   "execution_count": 68,
   "metadata": {
    "collapsed": true
   },
   "outputs": [],
   "source": [
    " #数据同上，损失函数同为平方差，重新设计拟合\n",
    "#定义超参数\n",
    "alpha = 0.0001\n",
    "init_w = 0\n",
    "init_b = 0\n",
    "num_iter = 20"
   ]
  },
  {
   "cell_type": "code",
   "execution_count": 69,
   "metadata": {
    "collapsed": true
   },
   "outputs": [],
   "source": [
    "#定义下降函数\n",
    "def grad_desc(points,init_w,init_b,alpha,num_iter):\n",
    "    w = init_w\n",
    "    b = init_b\n",
    "    cost_list = []\n",
    "    \n",
    "    for i in range(num_iter):\n",
    "        cost_list.append(cost1(w,b,points))\n",
    "        w,b = step_grad_desc(w,b,alpha,points)\n",
    "    return [w,b, cost_list]\n",
    "\n",
    "def step_grad_desc(cur_w,cur_b,alpha,points):\n",
    "    sum_grad_w = 0\n",
    "    sum_grad_b = 0\n",
    "    M = len(points)\n",
    "    for i in range(M):\n",
    "        x = points[i,0]\n",
    "        y = points[i,1]\n",
    "        sum_grad_w+=(cur_w * x + b - y) * x \n",
    "        sum_grad_b+=(cur_w * x + b - y)\n",
    "    #求梯度\n",
    "    grad_w = 2/M * sum_grad_w\n",
    "    grad_b = 2/M * sum_grad_b\n",
    "    cur_w -= alpha*grad_w\n",
    "    cur_b -= alpha*grad_b\n",
    "    return cur_w,cur_b"
   ]
  },
  {
   "cell_type": "code",
   "execution_count": 74,
   "metadata": {},
   "outputs": [
    {
     "name": "stdout",
     "output_type": "stream",
     "text": [
      "w is : 1.4788932922646816\n",
      "b is : 0.030268935136245564\n",
      "cost is: 112.64994461874397\n"
     ]
    },
    {
     "data": {
      "image/png": "[encoded data removed]",
      "text/plain": [
       "<matplotlib.figure.Figure at 0x178acd6bc88>"
      ]
     },
     "metadata": {},
     "output_type": "display_data"
    }
   ],
   "source": [
    "#计算结果\n",
    "w, b, cost_list = grad_desc(points,init_w,init_b,alpha,num_iter)\n",
    "print(\"w is :\",w)\n",
    "print(\"b is :\",b)\n",
    "\n",
    "cost = cost1(w,b,points)\n",
    "print(\"cost is:\",cost)\n",
    "\n",
    "plt.plot(cost_list)\n",
    "plt.show()\n"
   ]
  },
  {
   "cell_type": "code",
   "execution_count": 72,
   "metadata": {},
   "outputs": [
    {
     "data": {
      "image/png": "[encoded data removed]",
      "text/plain": [
       "<matplotlib.figure.Figure at 0x178ad15f710>"
      ]
     },
     "metadata": {},
     "output_type": "display_data"
    }
   ],
   "source": [
    "#拟合曲线\n",
    "plt.scatter(x,y)\n",
    "pred_y = w*x + b\n",
    "\n",
    "plt.plot(x,pred_y,c='red')\n",
    "plt.show()"
   ]
  },
  {
   "cell_type": "markdown",
   "metadata": {},
   "source": [
    "# K近邻算法"
   ]
  },
  {
   "cell_type": "code",
   "execution_count": 76,
   "metadata": {},
   "outputs": [],
   "source": [
    "import pandas as pd\n",
    "#数据集iris鸢尾花\n",
    "from sklearn.datasets import load_iris\n",
    "from sklearn.model_selection import train_test_split\n",
    "from sklearn.metrics import accuracy_score"
   ]
  },
  {
   "cell_type": "code",
   "execution_count": 86,
   "metadata": {},
   "outputs": [
    {
     "data": {
      "text/html": [
       "<div>\n",
       "<style>\n",
       "    .dataframe thead tr:only-child th {\n",
       "        text-align: right;\n",
       "    }\n",
       "\n",
       "    .dataframe thead th {\n",
       "        text-align: left;\n",
       "    }\n",
       "\n",
       "    .dataframe tbody tr th {\n",
       "        vertical-align: top;\n",
       "    }\n",
       "</style>\n",
       "<table border=\"1\" class=\"dataframe\">\n",
       "  <thead>\n",
       "    <tr style=\"text-align: right;\">\n",
       "      <th></th>\n",
       "      <th>sepal length (cm)</th>\n",
       "      <th>sepal width (cm)</th>\n",
       "      <th>petal length (cm)</th>\n",
       "      <th>petal width (cm)</th>\n",
       "    </tr>\n",
       "  </thead>\n",
       "  <tbody>\n",
       "    <tr>\n",
       "      <th>count</th>\n",
       "      <td>150.000000</td>\n",
       "      <td>150.000000</td>\n",
       "      <td>150.000000</td>\n",
       "      <td>150.000000</td>\n",
       "    </tr>\n",
       "    <tr>\n",
       "      <th>mean</th>\n",
       "      <td>5.843333</td>\n",
       "      <td>3.054000</td>\n",
       "      <td>3.758667</td>\n",
       "      <td>1.198667</td>\n",
       "    </tr>\n",
       "    <tr>\n",
       "      <th>std</th>\n",
       "      <td>0.828066</td>\n",
       "      <td>0.433594</td>\n",
       "      <td>1.764420</td>\n",
       "      <td>0.763161</td>\n",
       "    </tr>\n",
       "    <tr>\n",
       "      <th>min</th>\n",
       "      <td>4.300000</td>\n",
       "      <td>2.000000</td>\n",
       "      <td>1.000000</td>\n",
       "      <td>0.100000</td>\n",
       "    </tr>\n",
       "    <tr>\n",
       "      <th>25%</th>\n",
       "      <td>5.100000</td>\n",
       "      <td>2.800000</td>\n",
       "      <td>1.600000</td>\n",
       "      <td>0.300000</td>\n",
       "    </tr>\n",
       "    <tr>\n",
       "      <th>50%</th>\n",
       "      <td>5.800000</td>\n",
       "      <td>3.000000</td>\n",
       "      <td>4.350000</td>\n",
       "      <td>1.300000</td>\n",
       "    </tr>\n",
       "    <tr>\n",
       "      <th>75%</th>\n",
       "      <td>6.400000</td>\n",
       "      <td>3.300000</td>\n",
       "      <td>5.100000</td>\n",
       "      <td>1.800000</td>\n",
       "    </tr>\n",
       "    <tr>\n",
       "      <th>max</th>\n",
       "      <td>7.900000</td>\n",
       "      <td>4.400000</td>\n",
       "      <td>6.900000</td>\n",
       "      <td>2.500000</td>\n",
       "    </tr>\n",
       "  </tbody>\n",
       "</table>\n",
       "</div>"
      ],
      "text/plain": [
       "       sepal length (cm)  sepal width (cm)  petal length (cm)  \\\n",
       "count         150.000000        150.000000         150.000000   \n",
       "mean            5.843333          3.054000           3.758667   \n",
       "std             0.828066          0.433594           1.764420   \n",
       "min             4.300000          2.000000           1.000000   \n",
       "25%             5.100000          2.800000           1.600000   \n",
       "50%             5.800000          3.000000           4.350000   \n",
       "75%             6.400000          3.300000           5.100000   \n",
       "max             7.900000          4.400000           6.900000   \n",
       "\n",
       "       petal width (cm)  \n",
       "count        150.000000  \n",
       "mean           1.198667  \n",
       "std            0.763161  \n",
       "min            0.100000  \n",
       "25%            0.300000  \n",
       "50%            1.300000  \n",
       "75%            1.800000  \n",
       "max            2.500000  "
      ]
     },
     "execution_count": 86,
     "metadata": {},
     "output_type": "execute_result"
    }
   ],
   "source": [
    "iris = load_iris()\n",
    "df = pd.DataFrame(data=iris.data,columns = iris.feature_names)\n",
    "df['class']=iris.target\n",
    "df['class']=df['class'].map({0:iris.target_names[0],1:iris.target_names[1],2:iris.target_names[2]})\n",
    "df.describe()"
   ]
  },
  {
   "cell_type": "code",
   "execution_count": 87,
   "metadata": {},
   "outputs": [
    {
     "name": "stdout",
     "output_type": "stream",
     "text": [
      "(150, 4) (150, 1)\n"
     ]
    }
   ],
   "source": [
    "x = iris.data\n",
    "y = iris.target.reshape(-1,1)\n",
    "print(x.shape,y.shape)"
   ]
  },
  {
   "cell_type": "code",
   "execution_count": 92,
   "metadata": {},
   "outputs": [
    {
     "name": "stdout",
     "output_type": "stream",
     "text": [
      "(105, 4) (45, 1)\n"
     ]
    }
   ],
   "source": [
    "#分割数据\n",
    "train_x,test_x,train_y,test_y = train_test_split(x,y,test_size=0.3,random_state=30,stratify=y)\n",
    "print(train_x.shape,test_y.shape)"
   ]
  },
  {
   "cell_type": "code",
   "execution_count": 102,
   "metadata": {
    "collapsed": true
   },
   "outputs": [],
   "source": [
    "#算法实现\n",
    "def l1_distance(a,b):\n",
    "    return np.sum(np.abs(a-b),axis=1)\n",
    "def l2_distance(a,b):\n",
    "    return np.sqrt(np.sum((a-b)**2),axis =1)\n",
    "\n",
    "class kNN(object):\n",
    "    def __init__(self,n_neighbors=1,dist_func=l1_distance):\n",
    "        self.n_neighbors = n_neighbors\n",
    "        self.dist_func = dist_func\n",
    "        \n",
    "    def fit(self,x,y):\n",
    "        self.x_train = x\n",
    "        self.y_train = y\n",
    "        \n",
    "    def predict(self,x):\n",
    "        y_pred = np.zeros((x.shape[0],1),dtype = self.y_train.dtype)\n",
    "        for i,x_test in enumerate(x):\n",
    "            dis = self.dist_func(self.x_train,x_test)\n",
    "            \n",
    "            nn_index = np.argsort(dis)\n",
    "            nn_y = self.y_train[nn_index[self.n_neighbors]].ravel()\n",
    "            y_pred[i] = np.argmax(np.bincount(nn_y))\n",
    "        \n",
    "        return y_pred"
   ]
  },
  {
   "cell_type": "code",
   "execution_count": 103,
   "metadata": {},
   "outputs": [
    {
     "name": "stdout",
     "output_type": "stream",
     "text": [
      "acc: 0.9111111111111111\n"
     ]
    }
   ],
   "source": [
    "#输出结果\n",
    "knn = kNN(n_neighbors=3)\n",
    "knn.fit(train_x,train_y)\n",
    "y_pred=knn.predict(test_x)\n",
    "\n",
    "acc = accuracy_score(test_y,y_pred)\n",
    "print(\"acc:\",acc)"
   ]
  },
  {
   "cell_type": "code",
   "execution_count": null,
   "metadata": {
    "collapsed": true
   },
   "outputs": [],
   "source": []
  }
 ],
 "metadata": {
  "celltoolbar": "Raw Cell Format",
  "kernelspec": {
   "display_name": "Python 3",
   "language": "python",
   "name": "python3"
  },
  "language_info": {
   "codemirror_mode": {
    "name": "ipython",
    "version": 3
   },
   "file_extension": ".py",
   "mimetype": "text/x-python",
   "name": "python",
   "nbconvert_exporter": "python",
   "pygments_lexer": "ipython3",
   "version": "3.6.1"
  }
 },
 "nbformat": 4,
 "nbformat_minor": 2
}
